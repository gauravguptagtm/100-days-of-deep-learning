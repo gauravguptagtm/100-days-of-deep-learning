{
  "nbformat": 4,
  "nbformat_minor": 0,
  "metadata": {
    "colab": {
      "provenance": [],
      "authorship_tag": "ABX9TyPESlz+8thXXxWITQm+jJU6",
      "include_colab_link": true
    },
    "kernelspec": {
      "name": "python3",
      "display_name": "Python 3"
    },
    "language_info": {
      "name": "python"
    }
  },
  "cells": [
    {
      "cell_type": "markdown",
      "metadata": {
        "id": "view-in-github",
        "colab_type": "text"
      },
      "source": [
        "<a href=\"https://colab.research.google.com/github/gauravguptagtm/deep-learning-notebook/blob/main/DL_11(Memoization).ipynb\" target=\"_parent\"><img src=\"https://colab.research.google.com/assets/colab-badge.svg\" alt=\"Open In Colab\"/></a>"
      ]
    },
    {
      "cell_type": "markdown",
      "source": [
        "# Memoization\n",
        "\n",
        "In computing, memoization or memoisation is an optimization technique used primarily to speed up computer programs by storing the results of expensive function calls to pure functions and returning the cached result when the same inputs occur again.\n",
        "\n",
        "# Let's see how we use it in NN\n",
        "\n",
        "When we calculate derivatives, we mostly calculate some derivative multiple time which reduce the performance. So to overcome, we can use this technique.\n",
        "\n"
      ],
      "metadata": {
        "id": "339K3Rwn6HYs"
      }
    },
    {
      "cell_type": "code",
      "execution_count": null,
      "metadata": {
        "id": "q_1kpJr65bJ_"
      },
      "outputs": [],
      "source": []
    }
  ]
}