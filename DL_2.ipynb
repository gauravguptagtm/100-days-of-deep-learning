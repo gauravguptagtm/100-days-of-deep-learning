{
  "nbformat": 4,
  "nbformat_minor": 0,
  "metadata": {
    "colab": {
      "provenance": [],
      "authorship_tag": "ABX9TyNnaO9ceePDXsoQpiZXhNdI",
      "include_colab_link": true
    },
    "kernelspec": {
      "name": "python3",
      "display_name": "Python 3"
    },
    "language_info": {
      "name": "python"
    }
  },
  "cells": [
    {
      "cell_type": "markdown",
      "metadata": {
        "id": "view-in-github",
        "colab_type": "text"
      },
      "source": [
        "<a href=\"https://colab.research.google.com/github/gauravguptagtm/deep-learning-notebook/blob/main/DL_2.ipynb\" target=\"_parent\"><img src=\"https://colab.research.google.com/assets/colab-badge.svg\" alt=\"Open In Colab\"/></a>"
      ]
    },
    {
      "cell_type": "markdown",
      "source": [
        "# Perceptron Trick (Train a perceptron)\n",
        " This trick say that\n",
        "\n",
        "\n",
        "*   Initialize with random values.\n",
        "*   Now run a loop(epochs).\n",
        "*   Now we select any random point\n",
        "*   After that we ask him that you are in right side of line.\n",
        "*   If it say that I'm in right side then we choose next point.\n",
        "*   Now suppose it is in wrong side, it shift the line towards itself.\n",
        "*   We repeat this until loop not ended.(or while convergence by checking misclassified point.)\n",
        "\n",
        "\n",
        "### How Line transforms?\n",
        "\n",
        "Suppose we have a point (x,y) which is in wrong side(positive side), so calculation which we do\n",
        "```\n",
        "w1-x,  w2-y,  b-1\n",
        "```\n",
        "\n",
        "if point (x,y) which is in wrong side(negative side), so calculation which we do\n",
        "```\n",
        "w1+x,  w2+y,  b+1\n",
        "```\n",
        "Now we draw line on basis of this.\n"
      ],
      "metadata": {
        "id": "CZbV_ijZtwc-"
      }
    },
    {
      "cell_type": "code",
      "execution_count": null,
      "metadata": {
        "id": "Tmm4hgVhtnDJ"
      },
      "outputs": [],
      "source": []
    }
  ]
}