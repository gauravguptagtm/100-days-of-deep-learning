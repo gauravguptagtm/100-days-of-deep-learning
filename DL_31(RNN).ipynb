{
  "nbformat": 4,
  "nbformat_minor": 0,
  "metadata": {
    "colab": {
      "provenance": [],
      "authorship_tag": "ABX9TyP+FdYoJ5ZQKje4oD92zCZ7",
      "include_colab_link": true
    },
    "kernelspec": {
      "name": "python3",
      "display_name": "Python 3"
    },
    "language_info": {
      "name": "python"
    }
  },
  "cells": [
    {
      "cell_type": "markdown",
      "metadata": {
        "id": "view-in-github",
        "colab_type": "text"
      },
      "source": [
        "<a href=\"https://colab.research.google.com/github/gauravguptagtm/100-days-of-deep-learning/blob/main/DL_31(RNN).ipynb\" target=\"_parent\"><img src=\"https://colab.research.google.com/assets/colab-badge.svg\" alt=\"Open In Colab\"/></a>"
      ]
    },
    {
      "cell_type": "markdown",
      "source": [
        "# Recurrent Neural Network\n",
        "- Work on Sequential data(time series, textual, speech).\n",
        "- Used in NLP mostly\n",
        "\n",
        "# Why not use ANN?\n",
        "- We vectorize textual data first, and every sentence have different words. Because of that input size is different for each.\n",
        "- If we do zero padding, unnecessary computation gets too much.\n",
        "- Problem in prdiction.\n",
        "- Totally disregarding the sequence information.\n",
        "\n"
      ],
      "metadata": {
        "id": "ZGJ530iR-hDx"
      }
    },
    {
      "cell_type": "markdown",
      "source": [
        "- Keras -> Simple RNN -> (batch_szie, timestamp, input_feature)\n",
        "- One difference is word send one by one of sentence.\n",
        "- 2nd difference is RNN are not feed forward, there is a concept of state in hidden layer that send the feedback to itself.\n"
      ],
      "metadata": {
        "id": "fyRvxPtUVxHZ"
      }
    },
    {
      "cell_type": "code",
      "execution_count": 3,
      "metadata": {
        "id": "GHlooPLH-YTl"
      },
      "outputs": [],
      "source": [
        "from keras import Sequential\n",
        "from keras.layers import Dense, SimpleRNN"
      ]
    },
    {
      "cell_type": "code",
      "source": [
        "model = Sequential()\n",
        "\n",
        "model.add(SimpleRNN(3, input_shape=(4,5)))\n",
        "model.add(Dense(1, activation='sigmoid'))\n",
        "\n",
        "model.summary()"
      ],
      "metadata": {
        "colab": {
          "base_uri": "https://localhost:8080/"
        },
        "id": "rfbhR1xeGIrp",
        "outputId": "6f2b7533-c2a0-4acd-c7c2-41f7dfb277c0"
      },
      "execution_count": 4,
      "outputs": [
        {
          "output_type": "stream",
          "name": "stdout",
          "text": [
            "Model: \"sequential\"\n",
            "_________________________________________________________________\n",
            " Layer (type)                Output Shape              Param #   \n",
            "=================================================================\n",
            " simple_rnn (SimpleRNN)      (None, 3)                 27        \n",
            "                                                                 \n",
            " dense (Dense)               (None, 1)                 4         \n",
            "                                                                 \n",
            "=================================================================\n",
            "Total params: 31 (124.00 Byte)\n",
            "Trainable params: 31 (124.00 Byte)\n",
            "Non-trainable params: 0 (0.00 Byte)\n",
            "_________________________________________________________________\n"
          ]
        }
      ]
    },
    {
      "cell_type": "code",
      "source": [
        "model.get_weights()"
      ],
      "metadata": {
        "colab": {
          "base_uri": "https://localhost:8080/"
        },
        "id": "dO2muvDJGg9u",
        "outputId": "6f647a3d-1c31-4c39-cbe1-e8bb422f91fe"
      },
      "execution_count": 6,
      "outputs": [
        {
          "output_type": "execute_result",
          "data": {
            "text/plain": [
              "[array([[ 0.7593972 , -0.19577259, -0.02378219],\n",
              "        [-0.39864758, -0.6502956 , -0.24911934],\n",
              "        [-0.77027726, -0.3149374 , -0.38322026],\n",
              "        [-0.16398841, -0.6067728 ,  0.76009697],\n",
              "        [ 0.797041  , -0.24800372, -0.59751874]], dtype=float32),\n",
              " array([[ 0.11199844, -0.8783956 , -0.46462595],\n",
              "        [-0.9915047 , -0.12990355,  0.00658515],\n",
              "        [ 0.06614095, -0.45994136,  0.88548255]], dtype=float32),\n",
              " array([0., 0., 0.], dtype=float32),\n",
              " array([[-0.48421425],\n",
              "        [-1.1688818 ],\n",
              "        [-0.514275  ]], dtype=float32),\n",
              " array([0.], dtype=float32)]"
            ]
          },
          "metadata": {},
          "execution_count": 6
        }
      ]
    },
    {
      "cell_type": "code",
      "source": [],
      "metadata": {
        "id": "67r25JcGGvAt"
      },
      "execution_count": null,
      "outputs": []
    }
  ]
}