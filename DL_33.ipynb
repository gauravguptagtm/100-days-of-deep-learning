{
  "nbformat": 4,
  "nbformat_minor": 0,
  "metadata": {
    "colab": {
      "provenance": [],
      "authorship_tag": "ABX9TyNuJ9/+OuUteV/b3SbCpXiG",
      "include_colab_link": true
    },
    "kernelspec": {
      "name": "python3",
      "display_name": "Python 3"
    },
    "language_info": {
      "name": "python"
    }
  },
  "cells": [
    {
      "cell_type": "markdown",
      "metadata": {
        "id": "view-in-github",
        "colab_type": "text"
      },
      "source": [
        "<a href=\"https://colab.research.google.com/github/gauravguptagtm/100-days-of-deep-learning/blob/main/DL_33.ipynb\" target=\"_parent\"><img src=\"https://colab.research.google.com/assets/colab-badge.svg\" alt=\"Open In Colab\"/></a>"
      ]
    },
    {
      "cell_type": "code",
      "execution_count": 32,
      "metadata": {
        "id": "vR6C9i-fyLvG"
      },
      "outputs": [],
      "source": [
        "docs = ['go india',\n",
        "\t\t'india india',\n",
        "\t\t'hip hip hurray',\n",
        "\t\t'jeetega bhai jeetega india jeetega',\n",
        "\t\t'bharat mata ki jai',\n",
        "\t\t'kohli kohli',\n",
        "\t\t'sachin sachin',\n",
        "\t\t'dhoni dhoni',\n",
        "\t\t'modi ji ki jai',\n",
        "\t\t'inquilab zindabad']"
      ]
    },
    {
      "cell_type": "code",
      "source": [
        "from keras.preprocessing.text import Tokenizer\n",
        "tokenizer = Tokenizer()"
      ],
      "metadata": {
        "id": "xRzvJNh1mRQW"
      },
      "execution_count": 33,
      "outputs": []
    },
    {
      "cell_type": "code",
      "source": [
        "tokenizer.fit_on_texts(docs)"
      ],
      "metadata": {
        "id": "2IhkPg6YmRYT"
      },
      "execution_count": 34,
      "outputs": []
    },
    {
      "cell_type": "code",
      "source": [
        "len(tokenizer.word_index)"
      ],
      "metadata": {
        "colab": {
          "base_uri": "https://localhost:8080/"
        },
        "id": "dP5g_Tmin4AG",
        "outputId": "ee015845-8702-4071-e9fa-a83956fa3857"
      },
      "execution_count": 35,
      "outputs": [
        {
          "output_type": "execute_result",
          "data": {
            "text/plain": [
              "17"
            ]
          },
          "metadata": {},
          "execution_count": 35
        }
      ]
    },
    {
      "cell_type": "code",
      "source": [
        "sequences = tokenizer.texts_to_sequences(docs)\n",
        "sequences"
      ],
      "metadata": {
        "colab": {
          "base_uri": "https://localhost:8080/"
        },
        "id": "lOv8NrFFmRcE",
        "outputId": "c7f11f43-7db0-4a0e-88da-d0d833bb7e88"
      },
      "execution_count": 36,
      "outputs": [
        {
          "output_type": "execute_result",
          "data": {
            "text/plain": [
              "[[9, 1],\n",
              " [1, 1],\n",
              " [3, 3, 10],\n",
              " [2, 11, 2, 1, 2],\n",
              " [12, 13, 4, 5],\n",
              " [6, 6],\n",
              " [7, 7],\n",
              " [8, 8],\n",
              " [14, 15, 4, 5],\n",
              " [16, 17]]"
            ]
          },
          "metadata": {},
          "execution_count": 36
        }
      ]
    },
    {
      "cell_type": "code",
      "source": [
        "from keras.utils import pad_sequences\n",
        "sequences = pad_sequences(sequences,padding='post')\n",
        "sequences"
      ],
      "metadata": {
        "colab": {
          "base_uri": "https://localhost:8080/"
        },
        "id": "KG1RqcLnmRkA",
        "outputId": "6c03f1a8-f797-4f04-d042-fcebadab29f3"
      },
      "execution_count": 37,
      "outputs": [
        {
          "output_type": "execute_result",
          "data": {
            "text/plain": [
              "array([[ 9,  1,  0,  0,  0],\n",
              "       [ 1,  1,  0,  0,  0],\n",
              "       [ 3,  3, 10,  0,  0],\n",
              "       [ 2, 11,  2,  1,  2],\n",
              "       [12, 13,  4,  5,  0],\n",
              "       [ 6,  6,  0,  0,  0],\n",
              "       [ 7,  7,  0,  0,  0],\n",
              "       [ 8,  8,  0,  0,  0],\n",
              "       [14, 15,  4,  5,  0],\n",
              "       [16, 17,  0,  0,  0]], dtype=int32)"
            ]
          },
          "metadata": {},
          "execution_count": 37
        }
      ]
    },
    {
      "cell_type": "code",
      "source": [
        "from keras.datasets import imdb\n",
        "from keras import Sequential\n",
        "from keras.layers import Dense,SimpleRNN,Embedding,Flatten"
      ],
      "metadata": {
        "id": "af3IyRo3OckG"
      },
      "execution_count": 38,
      "outputs": []
    },
    {
      "cell_type": "code",
      "source": [
        "model = Sequential()\n",
        "model.add(Embedding(18,output_dim=2,input_length=5)) #vocab_size + 1\n",
        "\n",
        "model.summary()"
      ],
      "metadata": {
        "colab": {
          "base_uri": "https://localhost:8080/"
        },
        "id": "ETWEOn4wmRzd",
        "outputId": "e5a3b812-e205-441f-9c8d-1c678367cd6c"
      },
      "execution_count": 39,
      "outputs": [
        {
          "output_type": "stream",
          "name": "stdout",
          "text": [
            "Model: \"sequential_6\"\n",
            "_________________________________________________________________\n",
            " Layer (type)                Output Shape              Param #   \n",
            "=================================================================\n",
            " embedding_6 (Embedding)     (None, 5, 2)              36        \n",
            "                                                                 \n",
            "=================================================================\n",
            "Total params: 36 (144.00 Byte)\n",
            "Trainable params: 36 (144.00 Byte)\n",
            "Non-trainable params: 0 (0.00 Byte)\n",
            "_________________________________________________________________\n"
          ]
        }
      ]
    },
    {
      "cell_type": "code",
      "source": [
        "model.compile('adam','accuracy')"
      ],
      "metadata": {
        "id": "R68ghDfNmSAC"
      },
      "execution_count": 40,
      "outputs": []
    },
    {
      "cell_type": "code",
      "source": [
        "pred = model.predict(sequences)\n",
        "print(pred)"
      ],
      "metadata": {
        "colab": {
          "base_uri": "https://localhost:8080/"
        },
        "id": "ooYWO2NwoKoQ",
        "outputId": "157a2914-b193-43b8-f765-7a79027793c7"
      },
      "execution_count": 42,
      "outputs": [
        {
          "output_type": "stream",
          "name": "stdout",
          "text": [
            "1/1 [==============================] - 0s 25ms/step\n",
            "[[[ 0.01946247  0.00013509]\n",
            "  [ 0.02706916 -0.01418013]\n",
            "  [-0.04764626  0.04497973]\n",
            "  [-0.04764626  0.04497973]\n",
            "  [-0.04764626  0.04497973]]\n",
            "\n",
            " [[ 0.02706916 -0.01418013]\n",
            "  [ 0.02706916 -0.01418013]\n",
            "  [-0.04764626  0.04497973]\n",
            "  [-0.04764626  0.04497973]\n",
            "  [-0.04764626  0.04497973]]\n",
            "\n",
            " [[ 0.01578348  0.04730422]\n",
            "  [ 0.01578348  0.04730422]\n",
            "  [-0.04577571 -0.01483244]\n",
            "  [-0.04764626  0.04497973]\n",
            "  [-0.04764626  0.04497973]]\n",
            "\n",
            " [[-0.0445112  -0.03733103]\n",
            "  [-0.02130237 -0.02983793]\n",
            "  [-0.0445112  -0.03733103]\n",
            "  [ 0.02706916 -0.01418013]\n",
            "  [-0.0445112  -0.03733103]]\n",
            "\n",
            " [[ 0.02641344  0.00354748]\n",
            "  [ 0.01536388 -0.00202453]\n",
            "  [-0.02932688  0.00097179]\n",
            "  [-0.01276879  0.03290123]\n",
            "  [-0.04764626  0.04497973]]\n",
            "\n",
            " [[ 0.03264991  0.01589129]\n",
            "  [ 0.03264991  0.01589129]\n",
            "  [-0.04764626  0.04497973]\n",
            "  [-0.04764626  0.04497973]\n",
            "  [-0.04764626  0.04497973]]\n",
            "\n",
            " [[-0.03790898 -0.00843389]\n",
            "  [-0.03790898 -0.00843389]\n",
            "  [-0.04764626  0.04497973]\n",
            "  [-0.04764626  0.04497973]\n",
            "  [-0.04764626  0.04497973]]\n",
            "\n",
            " [[-0.02322179  0.01395141]\n",
            "  [-0.02322179  0.01395141]\n",
            "  [-0.04764626  0.04497973]\n",
            "  [-0.04764626  0.04497973]\n",
            "  [-0.04764626  0.04497973]]\n",
            "\n",
            " [[ 0.0330182  -0.01823393]\n",
            "  [ 0.00101175 -0.02450312]\n",
            "  [-0.02932688  0.00097179]\n",
            "  [-0.01276879  0.03290123]\n",
            "  [-0.04764626  0.04497973]]\n",
            "\n",
            " [[-0.03360224 -0.02526653]\n",
            "  [ 0.03465307 -0.03879812]\n",
            "  [-0.04764626  0.04497973]\n",
            "  [-0.04764626  0.04497973]\n",
            "  [-0.04764626  0.04497973]]]\n"
          ]
        }
      ]
    },
    {
      "cell_type": "code",
      "source": [
        "from keras.datasets import imdb\n",
        "from keras.preprocessing.text import Tokenizer\n",
        "from keras.utils import pad_sequences\n",
        "from keras import Sequential\n",
        "from keras.layers import Dense,SimpleRNN,Embedding,Flatten"
      ],
      "metadata": {
        "id": "yrM0IXVamPLn"
      },
      "execution_count": 49,
      "outputs": []
    },
    {
      "cell_type": "code",
      "source": [
        "(X_train,y_train),(X_test,y_test) = imdb.load_data()"
      ],
      "metadata": {
        "id": "4aH4HVjcyq1f"
      },
      "execution_count": 50,
      "outputs": []
    },
    {
      "cell_type": "code",
      "source": [
        "X_train = pad_sequences(X_train,padding='post',maxlen=50)\n",
        "X_test = pad_sequences(X_test,padding='post',maxlen=50)"
      ],
      "metadata": {
        "id": "cu2UOZGUzAEF"
      },
      "execution_count": 51,
      "outputs": []
    },
    {
      "cell_type": "code",
      "source": [
        "X_train.shape"
      ],
      "metadata": {
        "colab": {
          "base_uri": "https://localhost:8080/"
        },
        "id": "aO412Krkz7EO",
        "outputId": "3dc35e0a-feef-4b38-f792-6166fd7f0a9e"
      },
      "execution_count": 52,
      "outputs": [
        {
          "output_type": "execute_result",
          "data": {
            "text/plain": [
              "(25000, 50)"
            ]
          },
          "metadata": {},
          "execution_count": 52
        }
      ]
    },
    {
      "cell_type": "code",
      "source": [
        "model = Sequential()\n",
        "model.add(Embedding(input_dim=88586, output_dim=2, input_length=50))\n",
        "model.add(SimpleRNN(32, return_sequences=False))\n",
        "model.add(Dense(1,activation='sigmoid'))\n",
        "model.summary()"
      ],
      "metadata": {
        "colab": {
          "base_uri": "https://localhost:8080/"
        },
        "id": "WWXhm8vP_DO-",
        "outputId": "9154b189-dcbf-4bd6-d8a8-68066773a17d"
      },
      "execution_count": 55,
      "outputs": [
        {
          "output_type": "stream",
          "name": "stdout",
          "text": [
            "Model: \"sequential_9\"\n",
            "_________________________________________________________________\n",
            " Layer (type)                Output Shape              Param #   \n",
            "=================================================================\n",
            " embedding_9 (Embedding)     (None, 50, 2)             177172    \n",
            "                                                                 \n",
            " simple_rnn_4 (SimpleRNN)    (None, 32)                1120      \n",
            "                                                                 \n",
            " dense_4 (Dense)             (None, 1)                 33        \n",
            "                                                                 \n",
            "=================================================================\n",
            "Total params: 178325 (696.58 KB)\n",
            "Trainable params: 178325 (696.58 KB)\n",
            "Non-trainable params: 0 (0.00 Byte)\n",
            "_________________________________________________________________\n"
          ]
        }
      ]
    },
    {
      "cell_type": "code",
      "source": [
        "model.compile(optimizer='adam', loss='binary_crossentropy', metrics=['acc'])\n",
        "history = model.fit(X_train, y_train,epochs=5,validation_data=(X_test,y_test))"
      ],
      "metadata": {
        "colab": {
          "base_uri": "https://localhost:8080/"
        },
        "id": "AGCAZ7Rm_fqH",
        "outputId": "a0c9ae3f-2d09-46dc-dfb7-877e7b21e0b4"
      },
      "execution_count": 56,
      "outputs": [
        {
          "output_type": "stream",
          "name": "stdout",
          "text": [
            "Epoch 1/5\n",
            "782/782 [==============================] - 20s 23ms/step - loss: 0.6581 - acc: 0.5781 - val_loss: 0.4894 - val_acc: 0.7696\n",
            "Epoch 2/5\n",
            "782/782 [==============================] - 18s 23ms/step - loss: 0.4065 - acc: 0.8184 - val_loss: 0.4299 - val_acc: 0.8085\n",
            "Epoch 3/5\n",
            "782/782 [==============================] - 20s 25ms/step - loss: 0.2594 - acc: 0.8972 - val_loss: 0.4578 - val_acc: 0.8013\n",
            "Epoch 4/5\n",
            "782/782 [==============================] - 17s 22ms/step - loss: 0.1685 - acc: 0.9388 - val_loss: 0.5132 - val_acc: 0.7946\n",
            "Epoch 5/5\n",
            "782/782 [==============================] - 19s 25ms/step - loss: 0.1111 - acc: 0.9638 - val_loss: 0.6071 - val_acc: 0.7733\n"
          ]
        }
      ]
    },
    {
      "cell_type": "code",
      "source": [],
      "metadata": {
        "id": "jAQETwiZikEY"
      },
      "execution_count": null,
      "outputs": []
    }
  ]
}