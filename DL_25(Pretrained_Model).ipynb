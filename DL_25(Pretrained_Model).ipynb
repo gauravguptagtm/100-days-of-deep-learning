{
  "nbformat": 4,
  "nbformat_minor": 0,
  "metadata": {
    "colab": {
      "provenance": [],
      "authorship_tag": "ABX9TyMhe0hpuYMEs4Alu93VFfna",
      "include_colab_link": true
    },
    "kernelspec": {
      "name": "python3",
      "display_name": "Python 3"
    },
    "language_info": {
      "name": "python"
    }
  },
  "cells": [
    {
      "cell_type": "markdown",
      "metadata": {
        "id": "view-in-github",
        "colab_type": "text"
      },
      "source": [
        "<a href=\"https://colab.research.google.com/github/gauravguptagtm/100-days-of-deep-learning/blob/main/DL_25(Pretrained_Model).ipynb\" target=\"_parent\"><img src=\"https://colab.research.google.com/assets/colab-badge.svg\" alt=\"Open In Colab\"/></a>"
      ]
    },
    {
      "cell_type": "markdown",
      "source": [
        "# ImageNet Dataset\n",
        "\n",
        "- 1.4M images\n",
        "- 20000 categories\n",
        "- labeled\n",
        "- 1M images -> bounding boxes\n",
        "- They used crowdsourcing for labeling\n",
        "- After that, they comes up with imagenet challenges.\n",
        "- In 2010, first time they came up with it.\n",
        "- In 2012, ALEXNET comes.\n"
      ],
      "metadata": {
        "id": "w9Dkifz5i0On"
      }
    },
    {
      "cell_type": "code",
      "execution_count": 1,
      "metadata": {
        "id": "FPV6RdRvh1BQ"
      },
      "outputs": [],
      "source": [
        "import keras\n",
        "from keras.applications.resnet50 import ResNet50\n",
        "from keras.applications.resnet50 import preprocess_input, decode_predictions\n",
        "import numpy as np"
      ]
    },
    {
      "cell_type": "code",
      "source": [
        "model = ResNet50(weights='imagenet')"
      ],
      "metadata": {
        "colab": {
          "base_uri": "https://localhost:8080/"
        },
        "id": "QORO4r2hlvLD",
        "outputId": "084e5a73-6c76-4bbb-c9dd-a4f42cb39c26"
      },
      "execution_count": 2,
      "outputs": [
        {
          "output_type": "stream",
          "name": "stdout",
          "text": [
            "Downloading data from https://storage.googleapis.com/tensorflow/keras-applications/resnet/resnet50_weights_tf_dim_ordering_tf_kernels.h5\n",
            "102967424/102967424 [==============================] - 4s 0us/step\n"
          ]
        }
      ]
    },
    {
      "cell_type": "code",
      "source": [
        "img_path = '/content/small-dog-owners-1.jpg'\n",
        "img = keras.utils.load_img(img_path, target_size=(224, 224))\n",
        "x = keras.utils.img_to_array(img)\n",
        "x = np.expand_dims(x, axis=0)\n",
        "x = preprocess_input(x)"
      ],
      "metadata": {
        "id": "b5w7_wnClxtK"
      },
      "execution_count": 3,
      "outputs": []
    },
    {
      "cell_type": "code",
      "source": [
        "preds = model.predict(x)\n",
        "\n",
        "\n",
        "print('Predicted:', decode_predictions(preds, top=3)[0])"
      ],
      "metadata": {
        "colab": {
          "base_uri": "https://localhost:8080/"
        },
        "id": "dQPsX0FGmOy7",
        "outputId": "06dccb30-4748-4e58-e9a9-794c74effc9e"
      },
      "execution_count": 4,
      "outputs": [
        {
          "output_type": "stream",
          "name": "stdout",
          "text": [
            "1/1 [==============================] - 1s 1s/step\n",
            "Downloading data from https://storage.googleapis.com/download.tensorflow.org/data/imagenet_class_index.json\n",
            "35363/35363 [==============================] - 0s 0us/step\n",
            "Predicted: [('n02094433', 'Yorkshire_terrier', 0.9942678), ('n02094114', 'Norfolk_terrier', 0.0027968676), ('n02096294', 'Australian_terrier', 0.00069339253)]\n"
          ]
        }
      ]
    },
    {
      "cell_type": "code",
      "source": [],
      "metadata": {
        "id": "iSZ5leVlmTeY"
      },
      "execution_count": null,
      "outputs": []
    }
  ]
}