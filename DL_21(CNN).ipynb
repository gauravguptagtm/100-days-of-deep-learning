{
  "nbformat": 4,
  "nbformat_minor": 0,
  "metadata": {
    "colab": {
      "provenance": [],
      "authorship_tag": "ABX9TyMvSSoBCVxThn2865ouYIz8",
      "include_colab_link": true
    },
    "kernelspec": {
      "name": "python3",
      "display_name": "Python 3"
    },
    "language_info": {
      "name": "python"
    }
  },
  "cells": [
    {
      "cell_type": "markdown",
      "metadata": {
        "id": "view-in-github",
        "colab_type": "text"
      },
      "source": [
        "<a href=\"https://colab.research.google.com/github/gauravguptagtm/100-days-of-deep-learning/blob/main/DL_21(CNN).ipynb\" target=\"_parent\"><img src=\"https://colab.research.google.com/assets/colab-badge.svg\" alt=\"Open In Colab\"/></a>"
      ]
    },
    {
      "cell_type": "markdown",
      "source": [
        "# CNN\n",
        "\n",
        "- CNN also known as convnet.\n",
        "- Processing data thst has a known Grid like topology like time series data or images.\n",
        "- Inspiration - Visual Cortex\n",
        "\n",
        "## Why not use ANN?\n",
        "\n",
        "- High computation cost\n",
        "- Overfitting\n",
        "- Loss of imp info like spatial arrangement of pixels\n",
        "\n"
      ],
      "metadata": {
        "id": "-PJXezu7pZZo"
      }
    },
    {
      "cell_type": "markdown",
      "source": [
        "- We have 3 layers in CNN\n",
        "  - Convolution\n",
        "  - Pooling\n",
        "  - Fully Connected\n"
      ],
      "metadata": {
        "id": "VymIMPxE_Ld-"
      }
    },
    {
      "cell_type": "markdown",
      "source": [
        "# Convolution\n",
        "\n",
        "- Edge Detection -> Intensity change\n",
        "- we use filter/kernel for doing this.\n",
        "- In each layer, it extract some feature.\n",
        "$$\n",
        "(n-f+1)\n",
        "$$"
      ],
      "metadata": {
        "id": "PzBwgDS9-YFh"
      }
    },
    {
      "cell_type": "markdown",
      "source": [
        "## Padding\n",
        "- When we apply filter, dimension decreases each time after apply filter.\n",
        "- One more issue is, middle pixel is more importance rather than side pixels.\n",
        "\n",
        "These problen get fix by padding.\n"
      ],
      "metadata": {
        "id": "rV0TVlcrpywp"
      }
    },
    {
      "cell_type": "markdown",
      "source": [
        "- We change the image size to (m+2, n+2). We fill it with zero also known as zero padding.\n",
        "$$\n",
        "(n-2p-f+1)\n",
        "$$"
      ],
      "metadata": {
        "id": "soMLrAx5qXXC"
      }
    },
    {
      "cell_type": "markdown",
      "source": [
        "In keras, we have two type, valid & same."
      ],
      "metadata": {
        "id": "jWJ4aWwMq54-"
      }
    },
    {
      "cell_type": "code",
      "execution_count": 8,
      "metadata": {
        "id": "6Alg_MojiUSE"
      },
      "outputs": [],
      "source": [
        "import tensorflow\n",
        "from tensorflow import keras\n",
        "from keras.layers import Dense,Conv2D,Flatten, MaxPooling2D\n",
        "from keras import Sequential\n",
        "from keras.datasets import mnist"
      ]
    },
    {
      "cell_type": "code",
      "source": [
        "(X_train, y_train), (X_test, y_test) = mnist.load_data()"
      ],
      "metadata": {
        "colab": {
          "base_uri": "https://localhost:8080/"
        },
        "id": "9a6kdDx8rgKE",
        "outputId": "d0e38038-ab7a-48ae-c346-a1b9a218c246"
      },
      "execution_count": 3,
      "outputs": [
        {
          "output_type": "stream",
          "name": "stdout",
          "text": [
            "Downloading data from https://storage.googleapis.com/tensorflow/tf-keras-datasets/mnist.npz\n",
            "11490434/11490434 [==============================] - 0s 0us/step\n"
          ]
        }
      ]
    },
    {
      "cell_type": "code",
      "source": [
        "model = Sequential()\n",
        "\n",
        "model.add(Conv2D(32, kernel_size=(3,3), padding='valid', activation='relu', input_shape=(28,28,1)))\n",
        "model.add(Conv2D(32, kernel_size=(3,3), padding='valid', activation='relu'))\n",
        "model.add(Conv2D(32, kernel_size=(3,3), padding='valid', activation='relu'))\n",
        "\n",
        "model.add(Flatten())\n",
        "\n",
        "model.add(Dense(32, activation='relu'))\n",
        "model.add(Dense(10,activation='softmax'))"
      ],
      "metadata": {
        "id": "Hwr8m9xUrl7T"
      },
      "execution_count": 4,
      "outputs": []
    },
    {
      "cell_type": "code",
      "source": [
        "model.summary()"
      ],
      "metadata": {
        "colab": {
          "base_uri": "https://localhost:8080/"
        },
        "id": "bmT2FcUpsTAf",
        "outputId": "c8f1fb59-e958-498c-bd87-c357e264ed17"
      },
      "execution_count": 5,
      "outputs": [
        {
          "output_type": "stream",
          "name": "stdout",
          "text": [
            "Model: \"sequential\"\n",
            "_________________________________________________________________\n",
            " Layer (type)                Output Shape              Param #   \n",
            "=================================================================\n",
            " conv2d (Conv2D)             (None, 26, 26, 32)        320       \n",
            "                                                                 \n",
            " conv2d_1 (Conv2D)           (None, 24, 24, 32)        9248      \n",
            "                                                                 \n",
            " conv2d_2 (Conv2D)           (None, 22, 22, 32)        9248      \n",
            "                                                                 \n",
            " flatten (Flatten)           (None, 15488)             0         \n",
            "                                                                 \n",
            " dense (Dense)               (None, 32)                495648    \n",
            "                                                                 \n",
            " dense_1 (Dense)             (None, 10)                330       \n",
            "                                                                 \n",
            "=================================================================\n",
            "Total params: 514794 (1.96 MB)\n",
            "Trainable params: 514794 (1.96 MB)\n",
            "Non-trainable params: 0 (0.00 Byte)\n",
            "_________________________________________________________________\n"
          ]
        }
      ]
    },
    {
      "cell_type": "code",
      "source": [
        "model.compile(optimizer='Adam', loss='CategoricalCrossEntropy')"
      ],
      "metadata": {
        "id": "3YYXAIQssU6x"
      },
      "execution_count": null,
      "outputs": []
    },
    {
      "cell_type": "markdown",
      "source": [
        "## Strides\n",
        "- Shifting of kernel in each pass is known as strides.\n",
        "By default, it is (1,1).\n",
        "- One special case is when we don't have enough pixel. At that time, we don't go for that.\n",
        "\n",
        "$$\n",
        "(n-f)/s + 1 //\n",
        "(n+2p-f)/2 +1\n",
        "$$\n",
        "\n",
        "- Reason to use it:\n",
        "  - When we need only high level feature.\n",
        "  - Computing power"
      ],
      "metadata": {
        "id": "vfuPOMHCs1DN"
      }
    },
    {
      "cell_type": "code",
      "source": [
        "model = Sequential()\n",
        "\n",
        "model.add(Conv2D(32,kernel_size=(3,3),padding='same',strides=(2,2), activation='relu', input_shape=(28,28,1)))\n",
        "model.add(Conv2D(32,kernel_size=(3,3),padding='same',strides=(2,2), activation='relu'))\n",
        "model.add(Conv2D(32,kernel_size=(3,3),padding='same',strides=(2,2), activation='relu'))\n",
        "\n",
        "model.add(Flatten())\n",
        "\n",
        "model.add(Dense(128,activation='relu'))\n",
        "model.add(Dense(10,activation='softmax'))"
      ],
      "metadata": {
        "id": "Zlf7JzKCsjOF"
      },
      "execution_count": 6,
      "outputs": []
    },
    {
      "cell_type": "code",
      "source": [
        "model.summary()"
      ],
      "metadata": {
        "colab": {
          "base_uri": "https://localhost:8080/"
        },
        "id": "jNiE-YMlslQU",
        "outputId": "1be5aaa7-3d4f-462c-f991-c292ac212a55"
      },
      "execution_count": 7,
      "outputs": [
        {
          "output_type": "stream",
          "name": "stdout",
          "text": [
            "Model: \"sequential_1\"\n",
            "_________________________________________________________________\n",
            " Layer (type)                Output Shape              Param #   \n",
            "=================================================================\n",
            " conv2d_3 (Conv2D)           (None, 14, 14, 32)        320       \n",
            "                                                                 \n",
            " conv2d_4 (Conv2D)           (None, 7, 7, 32)          9248      \n",
            "                                                                 \n",
            " conv2d_5 (Conv2D)           (None, 4, 4, 32)          9248      \n",
            "                                                                 \n",
            " flatten_1 (Flatten)         (None, 512)               0         \n",
            "                                                                 \n",
            " dense_2 (Dense)             (None, 128)               65664     \n",
            "                                                                 \n",
            " dense_3 (Dense)             (None, 10)                1290      \n",
            "                                                                 \n",
            "=================================================================\n",
            "Total params: 85770 (335.04 KB)\n",
            "Trainable params: 85770 (335.04 KB)\n",
            "Non-trainable params: 0 (0.00 Byte)\n",
            "_________________________________________________________________\n"
          ]
        }
      ]
    },
    {
      "cell_type": "markdown",
      "source": [
        "## Problem with Convolution\n",
        "\n",
        "1. Memory Issue\n",
        "2. Translation variance - feature becomes location dependent.\n",
        "\n",
        "One of the possible solution for first is increasing stride.\n",
        "Pooling is a way to downsample your feature map because of this feature become translation invariance.\n"
      ],
      "metadata": {
        "id": "QPexxiKwvqJq"
      }
    },
    {
      "cell_type": "markdown",
      "source": [
        "# Pooling Layer\n",
        "\n",
        "- We add pooling layer just after convolution layer.\n",
        "- Max pooling, min pooling, avg pooling, l2 pooling, global pooling.\n",
        "- We tell size, stride and type to pooling layer."
      ],
      "metadata": {
        "id": "LRMjd7yJvXnG"
      }
    },
    {
      "cell_type": "code",
      "source": [
        "model = Sequential()\n",
        "\n",
        "model.add(Conv2D(32,kernel_size=(3,3),padding='same', activation='relu', input_shape=(28,28,1)))\n",
        "model.add(MaxPooling2D(pool_size=(2,2), strides=2, padding='valid'))\n",
        "model.add(Conv2D(32,kernel_size=(3,3),padding='same', activation='relu'))\n",
        "model.add(MaxPooling2D(pool_size=(2,2), strides=2, padding='valid'))\n",
        "model.add(Conv2D(32,kernel_size=(3,3),padding='same', activation='relu'))\n",
        "model.add(MaxPooling2D(pool_size=(2,2), strides=2, padding='valid'))\n",
        "\n",
        "\n",
        "model.add(Flatten())\n",
        "\n",
        "model.add(Dense(128,activation='relu'))\n",
        "model.add(Dense(10,activation='softmax'))"
      ],
      "metadata": {
        "id": "YGnrnb_vsmq5"
      },
      "execution_count": 9,
      "outputs": []
    },
    {
      "cell_type": "code",
      "source": [
        "model.summary()"
      ],
      "metadata": {
        "colab": {
          "base_uri": "https://localhost:8080/"
        },
        "id": "cg8ZIJGSzaRn",
        "outputId": "6b70f7fc-4f60-4f20-a810-0af08406a2fa"
      },
      "execution_count": 10,
      "outputs": [
        {
          "output_type": "stream",
          "name": "stdout",
          "text": [
            "Model: \"sequential_2\"\n",
            "_________________________________________________________________\n",
            " Layer (type)                Output Shape              Param #   \n",
            "=================================================================\n",
            " conv2d_6 (Conv2D)           (None, 28, 28, 32)        320       \n",
            "                                                                 \n",
            " max_pooling2d (MaxPooling2  (None, 14, 14, 32)        0         \n",
            " D)                                                              \n",
            "                                                                 \n",
            " conv2d_7 (Conv2D)           (None, 14, 14, 32)        9248      \n",
            "                                                                 \n",
            " max_pooling2d_1 (MaxPoolin  (None, 7, 7, 32)          0         \n",
            " g2D)                                                            \n",
            "                                                                 \n",
            " conv2d_8 (Conv2D)           (None, 7, 7, 32)          9248      \n",
            "                                                                 \n",
            " max_pooling2d_2 (MaxPoolin  (None, 3, 3, 32)          0         \n",
            " g2D)                                                            \n",
            "                                                                 \n",
            " flatten_2 (Flatten)         (None, 288)               0         \n",
            "                                                                 \n",
            " dense_4 (Dense)             (None, 128)               36992     \n",
            "                                                                 \n",
            " dense_5 (Dense)             (None, 10)                1290      \n",
            "                                                                 \n",
            "=================================================================\n",
            "Total params: 57098 (223.04 KB)\n",
            "Trainable params: 57098 (223.04 KB)\n",
            "Non-trainable params: 0 (0.00 Byte)\n",
            "_________________________________________________________________\n"
          ]
        }
      ]
    },
    {
      "cell_type": "markdown",
      "source": [
        "## Advantages of Pooling\n",
        "\n",
        "- Reduce size\n",
        "- Translation Invariance\n",
        "- Enhaced feature(in case of max pooling)\n",
        "- No need of training\n",
        "- Global Pooling -> Global max and global avg\n",
        "- Global pooling uses in the end while do flatten.\n",
        "\n",
        "## Disadvantages\n",
        "- In task like image segmentation, we don't use it.\n",
        "- Loss of information."
      ],
      "metadata": {
        "id": "sZmc2F-zzffR"
      }
    },
    {
      "cell_type": "code",
      "source": [],
      "metadata": {
        "id": "LObHgfTtzbuP"
      },
      "execution_count": null,
      "outputs": []
    }
  ]
}